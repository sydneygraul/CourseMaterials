{
 "cells": [
  {
   "cell_type": "code",
   "execution_count": 1,
   "id": "68b73000-7c00-4a6c-84ba-4968e4464e0c",
   "metadata": {
    "tags": []
   },
   "outputs": [],
   "source": [
    "import numpy as np\n",
    "import random\n",
    "from biom421 import codes\n",
    "np.random.seed(1)\n",
    "assignments = []"
   ]
  },
  {
   "cell_type": "code",
   "execution_count": 2,
   "id": "880cf97f-a552-45e6-8b18-feb55b01d5f2",
   "metadata": {
    "tags": []
   },
   "outputs": [
    {
     "name": "stdout",
     "output_type": "stream",
     "text": [
      "Shelby Ardehali\n",
      "Becca Balliew\n",
      "Shelby Bauer\n",
      "Sarah Bermingham\n",
      "Nicole Blais\n",
      "Carley Boulger\n",
      "Cassandra Buffington\n",
      "Alex Cerullo\n",
      "Mikayla Cox\n",
      "Alex David\n",
      "Zoe Fiedler\n",
      "Lauren Frueh\n",
      "Keigan Garrity\n",
      "Sydney Graul\n",
      "Ethan Harrell\n",
      "Kanita Hrustanovic\n",
      "Zabiba Husen\n",
      "Austin Jones\n",
      "Mitchell Knutsen\n",
      "Isabelle Lemma\n",
      "Sherly Manoharan\n",
      "Mark Metheny\n",
      "Anika OBrian\n",
      "Abbie Tangen\n",
      "Vivia Van De Mark\n"
     ]
    }
   ],
   "source": [
    "students = codes.spring2024Students()\n",
    "probsStudents = np.ones(len(students))\n",
    "for student in students:\n",
    "    print(student)"
   ]
  },
  {
   "cell_type": "code",
   "execution_count": 3,
   "id": "b83c65b8-2177-4652-9631-5b1d075498c4",
   "metadata": {},
   "outputs": [
    {
     "name": "stdout",
     "output_type": "stream",
     "text": [
      "Signal Transduction and Cellular Signaling - Receptor-Mediated Signaling: Activation of gene expression in response to extracellular signals.\n",
      "Signal Transduction and Cellular Signaling - Intracellular Signaling Cascades: Series of molecular events triggered by signaling molecules.\n",
      "Signal Transduction and Cellular Signaling - Second Messenger Systems: Involvement of molecules like cAMP, cGMP, and calcium ions.\n",
      "Signal Transduction and Cellular Signaling - Phosphorylation/Dephosphorylation: Post-translational modification of proteins to activate or deactivate signaling pathways.\n",
      "Signal Transduction and Cellular Signaling - G-protein Coupled Receptors (GPCRs): Activation of gene expression through GPCR-mediated pathways.\n",
      "Chromatin Remodeling and Epigenetic Regulation - Histone Modification: Acetylation, methylation, phosphorylation of histone proteins.\n",
      "Chromatin Remodeling and Epigenetic Regulation - DNA Methylation: Addition of methyl groups to DNA, influencing gene expression.\n",
      "Chromatin Remodeling and Epigenetic Regulation - Chromatin Remodeling Complexes: Alteration of chromatin structure to allow or restrict transcription.\n",
      "Chromatin Remodeling and Epigenetic Regulation - Non-Coding RNAs (ncRNAs): Involvement of microRNAs (miRNAs) and long non-coding RNAs (lncRNAs).\n",
      "Promoter Activation and Transcription Initiation - Promoter Binding Proteins: Transcription factors binding to gene promoters.\n",
      "Promoter Activation and Transcription Initiation - Enhancers and Silencers: DNA elements influencing transcription positively (enhancers) or negatively (silencers).\n",
      "Promoter Activation and Transcription Initiation - Transcriptional Coactivators/Co-repressors: Proteins that enhance or inhibit transcriptional activity.\n",
      "Promoter Activation and Transcription Initiation - RNA Polymerase Recruitment: Binding of RNA polymerase to gene promoters.\n",
      "Promoter Activation and Transcription Initiation - Mediator Complex: Bridges between transcription factors and RNA polymerase.\n",
      "Transcription Elongation and Termination - Elongation Factors: Proteins facilitating RNA polymerase movement along the DNA.\n",
      "Transcription Elongation and Termination - Pausing and Anti-Pausing Factors: Regulation of RNA polymerase pausing and elongation.\n",
      "Transcription Elongation and Termination - Terminator Sequences: Signals marking the end of transcription.\n",
      "RNA Processing and Modification - RNA Splicing: Removal of introns and joining of exons.\n",
      "RNA Processing and Modification - Polyadenylation: Addition of poly-A tail to mRNA.\n",
      "RNA Processing and Modification - RNA Editing: Alteration of nucleotide sequence in RNA transcripts.\n",
      "mRNA Transport and Localization - Nuclear Export: Transport of mature mRNA from the nucleus to the cytoplasm.\n",
      "mRNA Transport and Localization - mRNA Localization Signals: Sequences directing mRNA to specific cellular locations.\n",
      "Translation Initiation and Elongation - Ribosome Binding Sites: Recognition of mRNA by ribosomes.\n",
      "Translation Initiation and Elongation - Initiator tRNA: tRNA carrying the first amino acid in translation.\n",
      "Translation Initiation and Elongation - eIFs (Eukaryotic Initiation Factors): Proteins facilitating translation initiation.\n",
      "Translation Initiation and Elongation - Termination Factors: Proteins involved in translation termination.\n",
      "Post-Translational Modification - Protein Phosphorylation: Addition of phosphate groups to proteins.\n",
      "Post-Translational Modification - Ubiquitination: Addition of ubiquitin molecules for protein degradation.\n",
      "Post-Translational Modification - Acetylation/Deacetylation: Addition or removal of acetyl groups to regulate protein function.\n",
      "Post-Translational Modification - Glycosylation: Addition of sugar moieties to proteins.\n",
      "Protein Folding and Stability - Chaperone Proteins: Assist in proper protein folding.\n",
      "Protein Folding and Stability - Proteasomal Degradation: Targeted degradation of proteins by the proteasome.\n",
      "Cellular Localization - Nuclear Localization Signals (NLS): Sequences directing proteins to the nucleus.\n",
      "Cellular Localization - Mitochondrial Targeting Signals: Sequences directing proteins to mitochondria.\n",
      "Cellular Localization - Endoplasmic Reticulum (ER) Targeting Signals: Sequences directing proteins to the ER.\n",
      "Feedback Regulation and Feedback Inhibition - Negative Feedback Loops: Mechanisms to dampen excessive gene expression.\n",
      "Feedback Regulation and Feedback Inhibition - miRNA-mediated Regulation: Post-transcriptional regulation by microRNAs.\n",
      "Environmental and Metabolic Regulation - Nutrient Availability: Availability of nutrients influencing gene expression.\n",
      "Environmental and Metabolic Regulation - Oxygen and Redox Regulation: Cellular oxygen levels affecting gene expression.\n",
      "Environmental and Metabolic Regulation - Metabolite Sensing: Cellular metabolite levels impacting gene regulation.\n",
      "Stress Response - Heat Shock Proteins (HSPs): Induction in response to cellular stress.\n",
      "Stress Response - DNA Damage Response: Activation of repair mechanisms in response to DNA damage.\n",
      "Hormonal Regulation - Steroid Hormones: Influence gene expression through nuclear receptors.\n",
      "Hormonal Regulation - Peptide Hormones: Signaling cascades activated by peptide hormones.\n",
      "Epistasis and Genetic Interaction - Genetic Interactions: Interaction between genes influencing expression patterns.\n",
      "Epistasis and Genetic Interaction - Epistasis: Gene interaction where the effect of one gene depends on the presence of another.\n",
      "Non-Genetic Inheritance - Transgenerational Epigenetic Inheritance: Inheritance of epigenetic marks across generations.\n",
      "Cell Cycle Regulation - Cyclins and Cyclin-Dependent Kinases (CDKs): Regulate gene expression during the cell cycle.\n",
      "Cellular Differentiation - Master Regulator Genes: Genes controlling cell fate determination and differentiation.\n",
      "Cell Signaling Gradients - Gradients of signaling molecules influencing gene expression patterns.\n"
     ]
    }
   ],
   "source": [
    "topics = codes.geneRegulationTopics()\n",
    "probsTopics = np.ones(len(topics))\n",
    "for topic in topics:\n",
    "    print(topic)"
   ]
  },
  {
   "cell_type": "code",
   "execution_count": 54,
   "id": "65ca202b-2b50-461a-b835-0436b4a3e81d",
   "metadata": {
    "tags": []
   },
   "outputs": [
    {
     "name": "stdout",
     "output_type": "stream",
     "text": [
      "All probabilities are zero - Nothing to choose!\n"
     ]
    },
    {
     "ename": "TypeError",
     "evalue": "can only concatenate list (not \"str\") to list",
     "output_type": "error",
     "traceback": [
      "\u001b[0;31m---------------------------------------------------------------------------\u001b[0m",
      "\u001b[0;31mTypeError\u001b[0m                                 Traceback (most recent call last)",
      "Cell \u001b[0;32mIn[54], line 6\u001b[0m\n\u001b[1;32m      2\u001b[0m student, iStudent \u001b[38;5;241m=\u001b[39m codes\u001b[38;5;241m.\u001b[39mchooseMember(students,probsStudents)\n\u001b[1;32m      4\u001b[0m topic, iTopic \u001b[38;5;241m=\u001b[39m codes\u001b[38;5;241m.\u001b[39mchooseMember(topics,probsTopics)\n\u001b[0;32m----> 6\u001b[0m propose \u001b[38;5;241m=\u001b[39m student \u001b[38;5;241m+\u001b[39m \u001b[38;5;124m'\u001b[39m\u001b[38;5;124m will write about \u001b[39m\u001b[38;5;124m'\u001b[39m \u001b[38;5;241m+\u001b[39m topic\n\u001b[1;32m      8\u001b[0m \u001b[38;5;28mprint\u001b[39m(propose)\n",
      "\u001b[0;31mTypeError\u001b[0m: can only concatenate list (not \"str\") to list"
     ]
    }
   ],
   "source": [
    "# Propose Student and Topic Pair\n",
    "student, iStudent = codes.chooseMember(students,probsStudents)\n",
    "\n",
    "topic, iTopic = codes.chooseMember(topics,probsTopics)\n",
    "\n",
    "propose = student + ' will write about ' + topic\n",
    "\n",
    "print(propose)\n",
    "    "
   ]
  },
  {
   "cell_type": "code",
   "execution_count": 53,
   "id": "01f18225",
   "metadata": {},
   "outputs": [
    {
     "name": "stdout",
     "output_type": "stream",
     "text": [
      "\n",
      "Zoe Fiedler will write about Feedback Regulation and Feedback Inhibition - miRNA-mediated Regulation: Post-transcriptional regulation by microRNAs.\n",
      "\n",
      "Shelby Ardehali will write about Transcription Elongation and Termination - Elongation Factors: Proteins facilitating RNA polymerase movement along the DNA.\n",
      "\n",
      "Nicole Blais will write about Signal Transduction and Cellular Signaling - G-protein Coupled Receptors (GPCRs): Activation of gene expression through GPCR-mediated pathways.\n",
      "\n",
      "Cassandra Buffington will write about RNA Processing and Modification - Polyadenylation: Addition of poly-A tail to mRNA.\n",
      "\n",
      "Keigan Garrity will write about Post-Translational Modification - Ubiquitination: Addition of ubiquitin molecules for protein degradation.\n",
      "\n",
      "Sydney Graul will write about Cellular Localization - Endoplasmic Reticulum (ER) Targeting Signals: Sequences directing proteins to the ER.\n",
      "\n",
      "Carley Boulger will write about Epistasis and Genetic Interaction - Genetic Interactions: Interaction between genes influencing expression patterns.\n",
      "\n",
      "Becca Balliew will write about Cellular Localization - Nuclear Localization Signals (NLS): Sequences directing proteins to the nucleus.\n",
      "\n",
      "Kanita Hrustanovic will write about Post-Translational Modification - Protein Phosphorylation: Addition of phosphate groups to proteins.\n",
      "\n",
      "Alex Cerullo will write about Promoter Activation and Transcription Initiation - Promoter Binding Proteins: Transcription factors binding to gene promoters.\n",
      "\n",
      "Anika OBrian will write about Cellular Differentiation - Master Regulator Genes: Genes controlling cell fate determination and differentiation.\n",
      "\n",
      "Lauren Frueh will write about Feedback Regulation and Feedback Inhibition - Negative Feedback Loops: Mechanisms to dampen excessive gene expression.\n",
      "\n",
      "Abbie Tangen will write about Hormonal Regulation - Peptide Hormones: Signaling cascades activated by peptide hormones.\n",
      "\n",
      "Sarah Bermingham will write about Signal Transduction and Cellular Signaling - Intracellular Signaling Cascades: Series of molecular events triggered by signaling molecules.\n",
      "\n",
      "Mikayla Cox will write about Hormonal Regulation - Steroid Hormones: Influence gene expression through nuclear receptors.\n",
      "\n",
      "Shelby Bauer will write about RNA Processing and Modification - RNA Editing: Alteration of nucleotide sequence in RNA transcripts.\n",
      "\n",
      "Vivia Van De Mark will write about Translation Initiation and Elongation - eIFs (Eukaryotic Initiation Factors): Proteins facilitating translation initiation.\n",
      "\n",
      "Isabelle Lemma will write about Promoter Activation and Transcription Initiation - Mediator Complex: Bridges between transcription factors and RNA polymerase.\n",
      "\n",
      "Mitchell Knutsen will write about Stress Response - Heat Shock Proteins (HSPs): Induction in response to cellular stress.\n",
      "\n",
      "Alex David will write about Environmental and Metabolic Regulation - Nutrient Availability: Availability of nutrients influencing gene expression.\n",
      "\n",
      "Mark Metheny will write about Cellular Localization - Mitochondrial Targeting Signals: Sequences directing proteins to mitochondria.\n",
      "\n",
      "Zabiba Husen will write about Environmental and Metabolic Regulation - Oxygen and Redox Regulation: Cellular oxygen levels affecting gene expression.\n",
      "\n",
      "Ethan Harrell will write about RNA Processing and Modification - RNA Splicing: Removal of introns and joining of exons.\n",
      "\n",
      "Sherly Manoharan will write about Promoter Activation and Transcription Initiation - Enhancers and Silencers: DNA elements influencing transcription positively (enhancers) or negatively (silencers).\n",
      "\n",
      "Austin Jones will write about Chromatin Remodeling and Epigenetic Regulation - Histone Modification: Acetylation, methylation, phosphorylation of histone proteins.\n"
     ]
    }
   ],
   "source": [
    "# Accept\n",
    "assignments.append(f'{student} will write about {topic}')\n",
    "for assignment in assignments:\n",
    "    print('\\n' + assignment)\n",
    "\n",
    "probsStudents[iStudent] = 0\n",
    "probsTopics[iTopic] = 0"
   ]
  }
 ],
 "metadata": {
  "kernelspec": {
   "display_name": "Python 3",
   "language": "python",
   "name": "python3"
  },
  "language_info": {
   "codemirror_mode": {
    "name": "ipython",
    "version": 3
   },
   "file_extension": ".py",
   "mimetype": "text/x-python",
   "name": "python",
   "nbconvert_exporter": "python",
   "pygments_lexer": "ipython3",
   "version": "3.11.5"
  }
 },
 "nbformat": 4,
 "nbformat_minor": 5
}
