{
 "cells": [
  {
   "cell_type": "code",
   "execution_count": 1,
   "metadata": {},
   "outputs": [
    {
     "name": "stdout",
     "output_type": "stream",
     "text": [
      "['Shelby Ardehali', 'Becca Balliew', 'Shelby Bauer', 'Sarah Bermingham', 'Nicole Blais', 'Carley Boulger', 'Cassandra Buffington', 'Alex Cerullo', 'Mikayla Cox', 'Alex David', 'Zoe Fiedler', 'Lauren Frueh', 'Keigan Garrity', 'Sydney Graul', 'Ethan Harrell', 'Kanita Hrustanovic', 'Zabiba Husen', 'Austin Jones', 'Mitchell Knutsen', 'Isabelle Lemma', 'Sherly Manoharan', 'Mark Metheny', 'Anika OBrian', 'Abbie Tangen', 'Vivia Van De Mark']\n"
     ]
    }
   ],
   "source": [
    "from biom421 import codes\n",
    "import numpy as np\n",
    "students = codes.spring2024Students()\n",
    "print(students)\n",
    "probs = np.ones(len(students))"
   ]
  },
  {
   "cell_type": "code",
   "execution_count": 41,
   "metadata": {},
   "outputs": [
    {
     "name": "stdout",
     "output_type": "stream",
     "text": [
      "Cassandra Buffington\n"
     ]
    }
   ],
   "source": [
    "student, index = codes.chooseMember(students, probs)\n",
    "print(student)"
   ]
  },
  {
   "cell_type": "code",
   "execution_count": 35,
   "metadata": {},
   "outputs": [],
   "source": [
    "# Correct - Silence Next Call\n",
    "probs[index] = probs[index]*0"
   ]
  },
  {
   "cell_type": "code",
   "execution_count": null,
   "metadata": {},
   "outputs": [],
   "source": [
    "# Pass - Amplify Next Call\n",
    "probs[index] = probs[index]*2"
   ]
  },
  {
   "cell_type": "code",
   "execution_count": 42,
   "metadata": {},
   "outputs": [
    {
     "data": {
      "text/plain": [
       "['Nicole Blais', 'Zoe Fiedler', 'Mark Metheny', 'Vivia Van De Mark']"
      ]
     },
     "execution_count": 42,
     "metadata": {},
     "output_type": "execute_result"
    }
   ],
   "source": [
    "# Print indices of probs that are zero\n",
    "inds = np.where(probs==0)\n",
    "i = inds[0].astype(int)\n",
    "[students[j] for j in i]\n",
    "\n"
   ]
  },
  {
   "cell_type": "code",
   "execution_count": null,
   "metadata": {},
   "outputs": [],
   "source": []
  }
 ],
 "metadata": {
  "kernelspec": {
   "display_name": "biom421mac_env",
   "language": "python",
   "name": "python3"
  },
  "language_info": {
   "codemirror_mode": {
    "name": "ipython",
    "version": 3
   },
   "file_extension": ".py",
   "mimetype": "text/x-python",
   "name": "python",
   "nbconvert_exporter": "python",
   "pygments_lexer": "ipython3",
   "version": "3.11.5"
  }
 },
 "nbformat": 4,
 "nbformat_minor": 2
}
