{
 "cells": [
  {
   "cell_type": "markdown",
   "metadata": {},
   "source": [
    "In class questionsrelated to \"M1B-Python_Loops_and_Functions.ipynb\". "
   ]
  },
  {
   "cell_type": "markdown",
   "metadata": {},
   "source": [
    "# Functions and Loops"
   ]
  },
  {
   "cell_type": "code",
   "execution_count": null,
   "metadata": {},
   "outputs": [],
   "source": [
    "# Fix this function  so that it returns the first n numbers of the Fibonacci series\n",
    "def fibonacci(n):\n",
    "    ''' Returns the first n numbers of the Fibonacci series \n",
    "    Inputs: \n",
    "        n: int\n",
    "    Outputs:\n",
    "        seqn: list of ints\n",
    "        Example:\n",
    "            fibonacci(10) = [0,1,1,2,3,5,8,13,21,34]\n",
    "    '''\n",
    "    seqn = [0,1]\n",
    "    for i in range(2,n):\n",
    "        seqn.append(seqn[-1] + seqn[-2])\n",
    "    return seqn\n",
    "    \n",
    "# Test cases\n",
    "print(fibonacci(10))"
   ]
  },
  {
   "cell_type": "markdown",
   "metadata": {},
   "source": [
    "What is missing from the function above (assuming that we have now fixed it so that it works)?"
   ]
  },
  {
   "cell_type": "code",
   "execution_count": null,
   "metadata": {},
   "outputs": [],
   "source": [
    "\n",
    "# Fix this function  so that it returns all numbers of the Fibonacci series that are less than n\n",
    "def fibonacci2(n):\n",
    "    seqn = [0,1]\n",
    "    while seqn[-1]<n:\n",
    "        seqn.append(seqn[-1] + seqn[-2])\n",
    "    return seqn[:-1]\n",
    "\n",
    "# Test cases\n",
    "print(fibonacci2(1000))"
   ]
  },
  {
   "cell_type": "code",
   "execution_count": null,
   "metadata": {},
   "outputs": [],
   "source": [
    "# Fix this code to return the product of numbers in a list\n",
    "def prod(numbers):\n",
    "    ''' This function returns the product of numbers in a list\n",
    "        Inputs:\n",
    "            numbers: a list of numbers  \n",
    "        Outputs:    \n",
    "            product: the product of numbers in the list\n",
    "    '''\n",
    "    total = 1\n",
    "    for blah in numbers:\n",
    "        total *= blah\n",
    "    return total\n",
    "\n",
    "# Test cases\n",
    "print(prod([1,2,3,4,5]))"
   ]
  },
  {
   "cell_type": "code",
   "execution_count": null,
   "metadata": {},
   "outputs": [],
   "source": [
    "# what will be returned by the following code:\n",
    "print(prod.__doc__)\n",
    "#print(prod([1,2,3,4]))"
   ]
  },
  {
   "cell_type": "code",
   "execution_count": null,
   "metadata": {},
   "outputs": [],
   "source": [
    "prod?"
   ]
  },
  {
   "cell_type": "code",
   "execution_count": null,
   "metadata": {},
   "outputs": [],
   "source": [
    "# Fix this code and the way it is called so that it returns both the sum AND the product of the numbers in the list\n",
    "# Return these values as two separate variables.\n",
    "def sum_and_product(numbers):\n",
    "    return [sum(numbers), prod(numbers)]\n",
    "\n",
    "a = (sum_and_product([1,2,3,4,5]))\n",
    "print(a)"
   ]
  },
  {
   "cell_type": "code",
   "execution_count": null,
   "metadata": {},
   "outputs": [],
   "source": [
    "a = 15"
   ]
  },
  {
   "cell_type": "code",
   "execution_count": null,
   "metadata": {},
   "outputs": [],
   "source": [
    "# Adjust this function that takes one required argument and two optional arguments, \n",
    "# then returns the product of the three arguments. The default value for the optional arguments should both be 1.\n",
    "def product(a, b=1, c=1):\n",
    "    return a * b * c\n",
    "\n",
    "print(product(1,2,3))\n",
    "print(product(1,2))\n",
    "print(product(1))"
   ]
  },
  {
   "cell_type": "code",
   "execution_count": null,
   "metadata": {},
   "outputs": [],
   "source": [
    "# Questions about if/else statements\n",
    "# Fix this function so that it returns the string \"positive and even\" if the number is positive and even,\n",
    "# \"positive and odd\" if the number is positive and odd, \"negative\" if the number is negative, \n",
    "# and \"zero\" if the number is zero.\n",
    "def sign(number):\n",
    "    if number > 0:\n",
    "        return \"positive\"\n",
    "    blah"
   ]
  },
  {
   "cell_type": "code",
   "execution_count": null,
   "metadata": {},
   "outputs": [],
   "source": [
    "# Switch Cases:\n",
    "# Fix this code so that it can be used to return the number of days in a month,\n",
    "# given the name of the month as a string.\n",
    "def days_in_month(month):\n",
    "    match(month):\n",
    "        case \"January\"|\"March\"|\"May\"|\"July\"|\"August\"|\"October\"|\"December\":\n",
    "            return 31\n",
    "        case blah:\n",
    "    "
   ]
  },
  {
   "cell_type": "code",
   "execution_count": null,
   "metadata": {},
   "outputs": [],
   "source": [
    "# Try/Except \n",
    "# Fix this code, so that it tries to find the product of the two numbers,\n",
    "# but if it can't, it returns the string \"Sorry, Dr. Munsky, I can't do that.\"\n",
    "def product(a, b):\n",
    "    return a * b\n",
    "\n",
    "print(product(1,2))\n",
    "print(product(1,2,3))\n"
   ]
  },
  {
   "cell_type": "code",
   "execution_count": null,
   "metadata": {},
   "outputs": [],
   "source": [
    "# Loops over zipped lists\n",
    "# Fix this code so that it returns the sum of the products of list1 with list 2.\n",
    "def sum_list_prods(a, b):\n",
    "    total = 0\n",
    "    for blah1, blah2 in blah3:\n",
    "        total += blah4\n",
    "    return total\n",
    "\n",
    "print(sum_list_prods([1,2,3],[4,5,6]))"
   ]
  },
  {
   "cell_type": "code",
   "execution_count": null,
   "metadata": {},
   "outputs": [],
   "source": [
    "# List comprehension\n",
    "# Fix this code so that it returns the squares of the numbers in the list.\n",
    "def squares(numbers):\n",
    "    return [blah for blah in blah]\n",
    "\n",
    "print(squares([1,2,3,4,5]))"
   ]
  },
  {
   "cell_type": "code",
   "execution_count": null,
   "metadata": {},
   "outputs": [],
   "source": [
    "# Fix this code so that it returns a dictionary with the keys being the numbers in the list,\n",
    "# and the values beind dictionaries containing the square and cube of the number.\n",
    "\n",
    "def bases(numbers):\n",
    "    return {blah: {\"square\": blah**2, \"cube\": blah**3} for blah in blah}\n",
    "\n",
    "z = bases([1,2,3,4,5])\n",
    "print(f'the square of {z[3]} is {z[3][\"square\"]}')\n",
    "print(f'the cube of {z[4]} is {z[4][\"cube\"]}')\n"
   ]
  },
  {
   "cell_type": "code",
   "execution_count": null,
   "metadata": {},
   "outputs": [],
   "source": [
    "# Lambda Functions\n",
    "# Fix this code so that it returns the cube of the number.\n",
    "cuberer = lambda blah: blah\n",
    "\n",
    "print(cuberer(3))\n"
   ]
  },
  {
   "cell_type": "code",
   "execution_count": null,
   "metadata": {},
   "outputs": [],
   "source": [
    "# Fix this code so that it returns the first number to the power of the second number.\n",
    "powerer = lambda blah: blah\n",
    "\n",
    "print(powerer(2,3))"
   ]
  }
 ],
 "metadata": {
  "kernelspec": {
   "display_name": "biom421mac_env",
   "language": "python",
   "name": "python3"
  },
  "language_info": {
   "codemirror_mode": {
    "name": "ipython",
    "version": 3
   },
   "file_extension": ".py",
   "mimetype": "text/x-python",
   "name": "python",
   "nbconvert_exporter": "python",
   "pygments_lexer": "ipython3",
   "version": "3.11.5"
  }
 },
 "nbformat": 4,
 "nbformat_minor": 2
}
